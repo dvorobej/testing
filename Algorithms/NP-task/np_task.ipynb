{
 "cells": [
  {
   "cell_type": "code",
   "execution_count": 1,
   "metadata": {},
   "outputs": [],
   "source": [
    "import numpy as np\n",
    "import networkx as nx"
   ]
  },
  {
   "cell_type": "code",
   "execution_count": 2,
   "metadata": {},
   "outputs": [],
   "source": [
    "class Graph:\n",
    "    def __init__(self,arcs):\n",
    "        self.arcs = arcs.copy()\n",
    "        self.matrix_of_incidence = self.convert_incidence(self.arcs)\n",
    "        self.incidence_list = self.list_of_incidence(self.arcs)\n",
    "        self.matrix_adjacency = self.convert_adjacency(self.arcs)\n",
    "        self.free_vertexes = []\n",
    "        \n",
    "    def convert_incidence(self, arcs):\n",
    "        arcs = arcs.copy()\n",
    "        n = max(max(arcs[i]) for i in range(len(arcs)))+1\n",
    "        matrix_of_incidence = np.zeros((n,len(arcs)))\n",
    "        for i in range(len(arcs)):\n",
    "            matrix_of_incidence[arcs[i,0]][i] = 1\n",
    "            matrix_of_incidence[arcs[i,1]][i] = 1\n",
    "        return matrix_of_incidence       \n",
    "    \n",
    "    def convert_adjacency(self, arcs):\n",
    "        arcs = arcs.copy()\n",
    "        n = max(max(arcs[i]) for i in range(len(arcs)))+1\n",
    "        matrix_of_adjacency = np.zeros((n,n))\n",
    "        for i in range(len(arcs)):\n",
    "            matrix_of_adjacency[arcs[i,0]][arcs[i,1]] = 1\n",
    "            matrix_of_adjacency[arcs[i,1]][arcs[i,0]] = 1\n",
    "        return matrix_of_adjacency    \n",
    "        \n",
    "    \n",
    "    def list_of_incidence(self, arcs):\n",
    "        arcs = arcs.copy()\n",
    "        incidence = {}\n",
    "        for i in range(len(arcs)):\n",
    "            for j in range(2):\n",
    "                if arcs[i,j] not in incidence:\n",
    "                    incidence[arcs[i,j]] = []\n",
    "                    if j == 1:\n",
    "                        incidence[arcs[i,j]].append(arcs[i,0])\n",
    "                    else:\n",
    "                        incidence[arcs[i,j]].append(arcs[i,1])\n",
    "                else:\n",
    "                    if j == 0:\n",
    "                        incidence[arcs[i,j]].append(arcs[i,1])\n",
    "                    else:\n",
    "                        incidence[arcs[i,j]].append(arcs[i,0])\n",
    "        return incidence\n",
    "    \n",
    "\n",
    "    def add_arc(self, arc):\n",
    "        self.arcs = np.append(self.arcs, arc)\n",
    "        self.arcs = self.arcs.reshape((len(self.arcs)//2,2))\n",
    "        self.matrix_of_incidence = self.convert_incidence(self.arcs)\n",
    "        self.incidence_list = self.list_of_incidence(self.arcs)\n",
    "        self.matrix_adjacency = self.convert_adjacency(self.arcs)\n",
    "        \n",
    "    def delete_arc(self, arc):\n",
    "        arc = arc.copy()\n",
    "        num = 0\n",
    "        for i in range(len(self.arcs)):\n",
    "            num = i\n",
    "            if self.arcs[i,0] == arc[0] and self.arcs[i,1] == arc[1]:\n",
    "                break\n",
    "        b = self.arcs[:i]\n",
    "        c = self.arcs[i+1:]\n",
    "        b = np.append(b,c)\n",
    "        self.arcs = b.reshape(len(b)//2,2)\n",
    "        self.matrix_of_incidence = self.convert_incidence(self.arcs)\n",
    "        self.incidence_list = self.list_of_incidence(self.arcs)\n",
    "        self.matrix_adjacency = self.convert_adjacency(self.arcs)\n",
    "        \n",
    "    def add_vertex(self, vertex):\n",
    "        if vertex in self.arcs:\n",
    "            return _\n",
    "        self.free_vertexes.append(vertex)\n",
    "        #добавляем вершину в матрицу смежности создавая пустые столбец и строку\n",
    "        temporary_matrix_adjacency = np.zeros((len(self.matrix_adjacency)+1,len(self.matrix_adjacency)+1))\n",
    "        for i in range(len(self.matrix_adjacency)):\n",
    "            for j in range(len(self.matrix_adjacency)):\n",
    "                temporary_matrix_adjacency[i,j] = self.matrix_adjacency[i,j]\n",
    "        self.matrix_adjacency = temporary_matrix_adjacency\n",
    "        #добавляем вершину в матрицу инцидентности добавляя пустой столбец\n",
    "        temporary_matrix_incidence = np.zeros((len(self.matrix_of_incidence)+1,len(self.arcs)))\n",
    "        for i in range(len(self.matrix_of_incidence)):\n",
    "            for j in range(len(self.arcs)):\n",
    "                temporary_matrix_incidence[i,j] = self.matrix_of_incidence[i,j]\n",
    "        self.matrix_of_incidence = temporary_matrix_incidence       \n",
    "        #добавляем вершину в список инцидентности\n",
    "        self.incidence_list[vertex] = []\n",
    "        \n",
    "    def delete_vertex(self, vertex):\n",
    "        flag = 0\n",
    "        if vertex in self.free_vertexes:\n",
    "            self.free_vertexes.remove(vertex)\n",
    "            return _\n",
    "        for arc in self.arcs:\n",
    "            if vertex in arc:\n",
    "                self.delete_arc(arc)\n",
    "                flag = 1\n",
    "        if flag == 0:\n",
    "            self.matrix_of_incidence = self.convert_incidence(self.arcs)\n",
    "            self.incidence_list = self.list_of_incidence(self.arcs)\n",
    "            self.matrix_adjacency = self.convert_adjacency(self.arcs)\n",
    "            for i in self.free_vertexes:\n",
    "                self.add_vertex(i)"
   ]
  },
  {
   "cell_type": "code",
   "execution_count": 3,
   "metadata": {},
   "outputs": [
    {
     "name": "stdout",
     "output_type": "stream",
     "text": [
      "[[1 0]\n",
      " [1 2]\n",
      " [1 4]\n",
      " [2 3]\n",
      " [2 4]\n",
      " [3 4]]\n",
      "Матрица инцидентности \n",
      " [[1. 0. 0. 0. 0. 0.]\n",
      " [1. 1. 1. 0. 0. 0.]\n",
      " [0. 1. 0. 1. 1. 0.]\n",
      " [0. 0. 0. 1. 0. 1.]\n",
      " [0. 0. 1. 0. 1. 1.]]\n",
      "Список инцидентности \n",
      " {1: [0, 2, 4], 0: [1], 2: [1, 3, 4], 4: [1, 2, 3], 3: [2, 4]}\n",
      "Матрица смежности \n",
      " [[0. 1. 0. 0. 0.]\n",
      " [1. 0. 1. 0. 1.]\n",
      " [0. 1. 0. 1. 1.]\n",
      " [0. 0. 1. 0. 1.]\n",
      " [0. 1. 1. 1. 0.]]\n",
      "Добавили ребро 1,3 \n",
      " [[1 0]\n",
      " [1 2]\n",
      " [1 4]\n",
      " [2 3]\n",
      " [2 4]\n",
      " [3 4]\n",
      " [1 3]]\n",
      "Матрица инцидентности \n",
      " [[1. 0. 0. 0. 0. 0.]\n",
      " [1. 1. 1. 0. 0. 0.]\n",
      " [0. 1. 0. 1. 1. 0.]\n",
      " [0. 0. 0. 1. 0. 1.]\n",
      " [0. 0. 1. 0. 1. 1.]]\n",
      "Список инцидентности \n",
      " {1: [0, 2, 4], 0: [1], 2: [1, 3, 4], 4: [1, 2, 3], 3: [2, 4]}\n",
      "Матрица смежности \n",
      " [[0. 1. 0. 0. 0.]\n",
      " [1. 0. 1. 0. 1.]\n",
      " [0. 1. 0. 1. 1.]\n",
      " [0. 0. 1. 0. 1.]\n",
      " [0. 1. 1. 1. 0.]]\n",
      "Удалили ребро 1,3 \n",
      " [[1 0]\n",
      " [1 2]\n",
      " [1 4]\n",
      " [2 3]\n",
      " [2 4]\n",
      " [3 4]]\n",
      "Матрица смежности \n",
      " [[0. 1. 0. 0. 0.]\n",
      " [1. 0. 1. 0. 1.]\n",
      " [0. 1. 0. 1. 1.]\n",
      " [0. 0. 1. 0. 1.]\n",
      " [0. 1. 1. 1. 0.]]\n",
      "[]\n",
      "Матрица инцидентности \n",
      " [[1. 0. 0. 0. 0. 0.]\n",
      " [1. 1. 1. 0. 0. 0.]\n",
      " [0. 1. 0. 1. 1. 0.]\n",
      " [0. 0. 0. 1. 0. 1.]\n",
      " [0. 0. 1. 0. 1. 1.]]\n",
      "Список инцидентности \n",
      " {1: [0, 2, 4], 0: [1], 2: [1, 3, 4], 4: [1, 2, 3], 3: [2, 4]}\n"
     ]
    }
   ],
   "source": [
    "list_of_arcs = np.array([[1,0],[1,2],[1,4],[2,3],[2,4],[3,4]])\n",
    "print(list_of_arcs)\n",
    "g = Graph(list_of_arcs)\n",
    "print(\"Матрица инцидентности \\n\",g.matrix_of_incidence)\n",
    "print(\"Список инцидентности \\n\",g.incidence_list)\n",
    "print(\"Матрица смежности \\n\",g.matrix_adjacency)\n",
    "g.add_arc(np.array([1,3]))\n",
    "print(\"Добавили ребро 1,3 \\n\",g.arcs)\n",
    "g.delete_arc([1,3])\n",
    "print(\"Матрица инцидентности \\n\",g.matrix_of_incidence)\n",
    "print(\"Список инцидентности \\n\",g.incidence_list)\n",
    "print(\"Матрица смежности \\n\",g.matrix_adjacency)\n",
    "print(\"Удалили ребро 1,3 \\n\",g.arcs)\n",
    "g.add_vertex(1)\n",
    "print(\"Матрица смежности \\n\",g.matrix_adjacency)\n",
    "print(g.free_vertexes)\n",
    "print(\"Матрица инцидентности \\n\",g.matrix_of_incidence)\n",
    "print(\"Список инцидентности \\n\",g.incidence_list)\n"
   ]
  },
  {
   "cell_type": "code",
   "execution_count": 4,
   "metadata": {},
   "outputs": [
    {
     "data": {
      "image/png": "[encoded data removed]",
      "text/plain": [
       "<Figure size 432x288 with 1 Axes>"
      ]
     },
     "metadata": {},
     "output_type": "display_data"
    }
   ],
   "source": [
    "G = nx.from_numpy_matrix(g.matrix_adjacency)\n",
    "nx.draw(G, with_labels=True)"
   ]
  },
  {
   "cell_type": "code",
   "execution_count": 82,
   "metadata": {},
   "outputs": [],
   "source": [
    "def the_longest_path(graph, k):\n",
    "    if len(graph.incidence_list.keys()) < k: #количество вершин должно соответствовать k\n",
    "        return False\n",
    "    if len(graph.arcs) < k: #количество ребер должно соответствовать k\n",
    "        return False \n",
    "    paths = []\n",
    "    vertexes = sorted(list(graph.incidence_list.keys())) #список вершин\n",
    "    for i in vertexes:\n",
    "        paths.append([i])\n",
    "    flag = True\n",
    "    for path in paths:\n",
    "        for vertex in graph.incidence_list[path[-1]]:\n",
    "            if vertex not in path:\n",
    "                new_path = path[:]\n",
    "                new_path.append(vertex)\n",
    "                paths.append(new_path)\n",
    "                flag = True\n",
    "    return paths"
   ]
  },
  {
   "cell_type": "code",
   "execution_count": 79,
   "metadata": {},
   "outputs": [
    {
     "data": {
      "text/plain": [
       "[4, 3, 2, 1, 0]"
      ]
     },
     "execution_count": 79,
     "metadata": {},
     "output_type": "execute_result"
    }
   ],
   "source": [
    "a = the_longest_path(g, 4)\n",
    "a[-1]"
   ]
  },
  {
   "cell_type": "code",
   "execution_count": 80,
   "metadata": {},
   "outputs": [
    {
     "data": {
      "image/png": "[encoded data removed]",
      "text/plain": [
       "<Figure size 432x288 with 1 Axes>"
      ]
     },
     "metadata": {},
     "output_type": "display_data"
    }
   ],
   "source": [
    "G = nx.from_numpy_matrix(g.matrix_adjacency)\n",
    "nx.draw(G, with_labels=True)"
   ]
  },
  {
   "cell_type": "code",
   "execution_count": 81,
   "metadata": {},
   "outputs": [],
   "source": [
    "if (len(a[-1]) - 1) < 4:\n",
    "    print('Пути нет')"
   ]
  },
  {
   "cell_type": "code",
   "execution_count": null,
   "metadata": {},
   "outputs": [],
   "source": []
  },
  {
   "cell_type": "code",
   "execution_count": null,
   "metadata": {},
   "outputs": [],
   "source": []
  },
  {
   "cell_type": "code",
   "execution_count": null,
   "metadata": {},
   "outputs": [],
   "source": []
  },
  {
   "cell_type": "code",
   "execution_count": null,
   "metadata": {},
   "outputs": [],
   "source": []
  },
  {
   "cell_type": "code",
   "execution_count": null,
   "metadata": {},
   "outputs": [],
   "source": []
  }
 ],
 "metadata": {
  "kernelspec": {
   "display_name": "Python 3",
   "language": "python",
   "name": "python3"
  },
  "language_info": {
   "codemirror_mode": {
    "name": "ipython",
    "version": 3
   },
   "file_extension": ".py",
   "mimetype": "text/x-python",
   "name": "python",
   "nbconvert_exporter": "python",
   "pygments_lexer": "ipython3",
   "version": "3.7.6"
  }
 },
 "nbformat": 4,
 "nbformat_minor": 2
}
